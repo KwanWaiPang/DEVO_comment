{
 "cells": [
  {
   "cell_type": "markdown",
   "metadata": {},
   "source": [
    "# 处理mono-HKU的数据集\n",
    "\n",
    "* kernel 采用[devo](https://github.com/KwanWaiPang/DEVO_comment)\n",
    "* 数据路径：/media/lfl-data2/Mono_HKU"
   ]
  },
  {
   "cell_type": "code",
   "execution_count": 1,
   "metadata": {},
   "outputs": [
    {
     "name": "stderr",
     "output_type": "stream",
     "text": [
      "Failed to load Python extension for LZ4 support. LZ4 compression will not be available.\n"
     ]
    },
    {
     "name": "stdout",
     "output_type": "stream",
     "text": [
      "Successfully import ultils to process the rosbag\n"
     ]
    }
   ],
   "source": [
    "import numpy as np\n",
    "import os\n",
    "import argparse\n",
    "import multiprocessing #多线程处理\n",
    "import cv2\n",
    "import matplotlib.pyplot as plt #绘图\n",
    "\n",
    "\n",
    "import rosbag #处理rosbag\n",
    "from sensor_msgs.msg import Image\n",
    "from cv_bridge import CvBridge\n",
    "import tqdm as tqdm\n",
    "import h5py\n",
    "from utils.bag_utils import read_H_W_from_bag, read_tss_us_from_rosbag, read_images_from_rosbag, read_evs_from_rosbag, read_calib_from_bag, read_t0us_evs_from_rosbag, read_poses_from_rosbag\n",
    "print(\"Successfully import ultils to process the rosbag\")"
   ]
  },
  {
   "cell_type": "code",
   "execution_count": 4,
   "metadata": {},
   "outputs": [
    {
     "name": "stdout",
     "output_type": "stream",
     "text": [
      "The topics of 1 th rosbag vicon_aggressive_hdr.bag is ['/davis346/events', '/davis346/image_raw', '/davis346/imu', '/dvs_vicon/gt_pose', '/dvxplorer/events', '/dvxplorer/imu']\n",
      "\n",
      "The topics of 2 th rosbag vicon_dark1.bag is ['/davis346/events', '/davis346/image_raw', '/davis346/imu', '/dvs_vicon/gt_pose', '/dvxplorer/events', '/dvxplorer/imu']\n",
      "\n",
      "The topics of 3 th rosbag vicon_dark2.bag is ['/davis346/events', '/davis346/image_raw', '/davis346/imu', '/dvs_vicon/gt_pose', '/dvxplorer/events', '/dvxplorer/imu']\n",
      "\n",
      "The topics of 4 th rosbag vicon_darktolight1.bag is ['/davis346/events', '/davis346/image_raw', '/davis346/imu', '/dvs_vicon/gt_pose', '/dvxplorer/events', '/dvxplorer/imu']\n",
      "\n",
      "The topics of 5 th rosbag vicon_darktolight2.bag is ['/davis346/events', '/davis346/image_raw', '/davis346/imu', '/dvs_vicon/gt_pose', '/dvxplorer/events', '/dvxplorer/imu']\n",
      "\n",
      "The topics of 6 th rosbag vicon_hdr1.bag is ['/davis346/events', '/davis346/image_raw', '/davis346/imu', '/dvs_vicon/gt_pose', '/dvxplorer/events', '/dvxplorer/imu']\n",
      "\n",
      "The topics of 7 th rosbag vicon_hdr2.bag is ['/davis346/events', '/davis346/image_raw', '/davis346/imu', '/dvs_vicon/gt_pose', '/dvxplorer/events', '/dvxplorer/imu']\n",
      "\n",
      "The topics of 8 th rosbag vicon_hdr3.bag is ['/davis346/events', '/davis346/image_raw', '/davis346/imu', '/dvs_vicon/gt_pose', '/dvxplorer/events', '/dvxplorer/imu']\n",
      "\n",
      "The topics of 9 th rosbag vicon_hdr4.bag is ['/davis346/events', '/davis346/image_raw', '/davis346/imu', '/dvs_vicon/gt_pose', '/dvxplorer/events', '/dvxplorer/imu']\n",
      "\n",
      "The topics of 10 th rosbag vicon_lighttodark1.bag is ['/davis346/events', '/davis346/image_raw', '/davis346/imu', '/dvs_vicon/gt_pose', '/dvxplorer/events', '/dvxplorer/imu']\n",
      "\n",
      "The topics of 11 th rosbag vicon_lighttodark2.bag is ['/davis346/events', '/davis346/image_raw', '/davis346/imu', '/dvs_vicon/gt_pose', '/dvxplorer/events', '/dvxplorer/imu']\n",
      "\n"
     ]
    }
   ],
   "source": [
    "indir=\"/media/lfl-data2/Mono_HKU/\"\n",
    "count=1;\n",
    "for root, dirs, files in os.walk(indir):\n",
    "    for f in files:\n",
    "        if f.endswith(\".bag\"):\n",
    "            rosbag_file=os.path.join(root, f)\n",
    "            # 从rosbag文件中读取数据\n",
    "            bag_data = rosbag.Bag(rosbag_file, \"r\")\n",
    "            topics = list(bag_data.get_type_and_topic_info()[1].keys())\n",
    "            print(f\"The topics of {count} th rosbag {f} is {topics}\\n\")\n",
    "            count+=1"
   ]
  }
 ],
 "metadata": {
  "kernelspec": {
   "display_name": "vid2e",
   "language": "python",
   "name": "python3"
  },
  "language_info": {
   "codemirror_mode": {
    "name": "ipython",
    "version": 3
   },
   "file_extension": ".py",
   "mimetype": "text/x-python",
   "name": "python",
   "nbconvert_exporter": "python",
   "pygments_lexer": "ipython3",
   "version": "3.10.0"
  }
 },
 "nbformat": 4,
 "nbformat_minor": 2
}
