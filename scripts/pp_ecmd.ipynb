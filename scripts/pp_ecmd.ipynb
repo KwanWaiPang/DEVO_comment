{
 "cells": [
  {
   "cell_type": "markdown",
   "metadata": {},
   "source": [
    "# 处理ECMD的数据集\n",
    "\n",
    "* kernel 采用[devo](https://github.com/KwanWaiPang/DEVO_comment)\n",
    "* 数据路径：/media/lfl-data2/ECMD"
   ]
  },
  {
   "cell_type": "code",
   "execution_count": 1,
   "metadata": {},
   "outputs": [
    {
     "name": "stderr",
     "output_type": "stream",
     "text": [
      "Failed to load Python extension for LZ4 support. LZ4 compression will not be available.\n"
     ]
    },
    {
     "name": "stdout",
     "output_type": "stream",
     "text": [
      "Successfully import ultils to process the rosbag\n"
     ]
    }
   ],
   "source": [
    "import numpy as np\n",
    "import os\n",
    "import argparse\n",
    "import multiprocessing #多线程处理\n",
    "import cv2\n",
    "import matplotlib.pyplot as plt #绘图\n",
    "\n",
    "\n",
    "import rosbag #处理rosbag\n",
    "from sensor_msgs.msg import Image\n",
    "from cv_bridge import CvBridge\n",
    "import tqdm as tqdm\n",
    "import h5py\n",
    "from utils.bag_utils import read_H_W_from_bag, read_tss_us_from_rosbag, read_images_from_rosbag, read_evs_from_rosbag, read_calib_from_bag, read_t0us_evs_from_rosbag, read_poses_from_rosbag\n",
    "print(\"Successfully import ultils to process the rosbag\")"
   ]
  },
  {
   "cell_type": "code",
   "execution_count": 3,
   "metadata": {},
   "outputs": [
    {
     "name": "stdout",
     "output_type": "stream",
     "text": [
      "The topics of 1 th rosbag Dense_street_night_easy_a.bag is ['/DAVIS346_left/events', '/DAVIS346_left/image', '/DAVIS346_left/imu', '/DAVIS346_right/events', '/DAVIS346_right/image', '/DAVIS346_right/imu', '/DVXplorer_left/events', '/DVXplorer_left/imu', '/DVXplorer_right/events', '/DVXplorer_right/imu', '/camera_left/image_color/compressed', '/camera_right/image_color/compressed', '/hikrobot_infrared_camera/rgb', '/imu/data', '/left/lslidar_point_cloud', '/right/velodyne_points', '/velodyne_points']\n",
      "\n",
      "\u001b[31m Error processing Highway_day_easy_a.bag \u001b[0m\n",
      "The topics of 1 th rosbag Suburban_road_day_easy_b.bag is ['/DAVIS346_left/events', '/DAVIS346_left/image', '/DAVIS346_left/imu', '/DAVIS346_right/events', '/DAVIS346_right/image', '/DAVIS346_right/imu', '/DVXplorer_left/events', '/DVXplorer_left/imu', '/DVXplorer_right/events', '/DVXplorer_right/imu', '/camera_left/image_color/compressed', '/camera_right/image_color/compressed', '/hikrobot_infrared_camera/rgb', '/imu/data', '/left/lslidar_point_cloud', '/right/velodyne_points', '/velodyne_points']\n",
      "\n",
      "The topics of 1 th rosbag Urban_road_day_easy_b.bag is ['/DAVIS346_left/events', '/DAVIS346_left/image', '/DAVIS346_left/imu', '/DAVIS346_right/events', '/DAVIS346_right/image', '/DAVIS346_right/imu', '/DVXplorer_left/events', '/DVXplorer_left/imu', '/DVXplorer_right/events', '/DVXplorer_right/imu', '/camera_left/image_color/compressed', '/camera_right/image_color/compressed', '/hikrobot_infrared_camera/rgb', '/imu/data', '/left/lslidar_point_cloud', '/ptp/trigger_time', '/right/velodyne_points', '/velodyne_points']\n",
      "\n"
     ]
    }
   ],
   "source": [
    "indir=\"/media/lfl-data2/ECMD\"\n",
    "count=1;\n",
    "for root, dirs, files in os.walk(indir):\n",
    "    for f in files:\n",
    "        if f.endswith(\".bag\"):\n",
    "            rosbag_file=os.path.join(root, f)\n",
    "            # 从rosbag文件中读取数据(先检查包是否有效)\n",
    "            try:\n",
    "                bag_data = rosbag.Bag(rosbag_file, \"r\")\n",
    "                topics = list(bag_data.get_type_and_topic_info()[1].keys())\n",
    "                print(f\"The topics of {count} th rosbag {f} is {topics}\\n\")\n",
    "            except:\n",
    "                print(f\"\\033[31m Error processing {f} \\033[0m\")\n",
    "                continue"
   ]
  }
 ],
 "metadata": {
  "kernelspec": {
   "display_name": "vid2e",
   "language": "python",
   "name": "python3"
  },
  "language_info": {
   "codemirror_mode": {
    "name": "ipython",
    "version": 3
   },
   "file_extension": ".py",
   "mimetype": "text/x-python",
   "name": "python",
   "nbconvert_exporter": "python",
   "pygments_lexer": "ipython3",
   "version": "3.10.0"
  }
 },
 "nbformat": 4,
 "nbformat_minor": 2
}
